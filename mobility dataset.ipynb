{
 "cells": [
  {
   "cell_type": "code",
   "execution_count": 46,
   "id": "004b4a44",
   "metadata": {
    "ExecuteTime": {
     "end_time": "2023-09-10T12:59:23.139569Z",
     "start_time": "2023-09-10T12:59:23.102314Z"
    }
   },
   "outputs": [],
   "source": [
    "#Import necessary libraries\n",
    "import pandas as pd\n",
    "import numpy as np\n",
    "import matplotlib.pyplot as plt\n",
    "import seaborn as sns\n",
    "import folium\n",
    "\n",
    "#Load your data\n",
    "data = pd.read_csv('unnati_phase1_data_revised.csv')"
   ]
  },
  {
   "cell_type": "code",
   "execution_count": 3,
   "id": "7f2e38b5",
   "metadata": {
    "ExecuteTime": {
     "end_time": "2023-09-08T16:25:15.819054Z",
     "start_time": "2023-09-08T16:25:15.797125Z"
    }
   },
   "outputs": [
    {
     "name": "stdout",
     "output_type": "stream",
     "text": [
      "Alert      0\n",
      "Date       0\n",
      "Time       0\n",
      "Lat        0\n",
      "Long       0\n",
      "Vehicle    0\n",
      "Speed      0\n",
      "dtype: int64\n"
     ]
    }
   ],
   "source": [
    "print(data.isnull().sum())\n",
    "# no null values found"
   ]
  },
  {
   "cell_type": "code",
   "execution_count": 5,
   "id": "8d49495e",
   "metadata": {
    "ExecuteTime": {
     "end_time": "2023-09-08T16:27:06.785311Z",
     "start_time": "2023-09-08T16:27:06.746409Z"
    }
   },
   "outputs": [
    {
     "name": "stdout",
     "output_type": "stream",
     "text": [
      "Duplicate entries exist.\n"
     ]
    }
   ],
   "source": [
    "duplicate_rows = data[data.duplicated()]\n",
    "\n",
    "if not duplicate_rows.empty:\n",
    "    print(\"Duplicate entries exist.\")\n",
    "else:\n",
    "    print(\"No duplicate entries found.\")\n"
   ]
  },
  {
   "cell_type": "code",
   "execution_count": 47,
   "id": "92b851b4",
   "metadata": {
    "ExecuteTime": {
     "end_time": "2023-09-10T12:59:26.457807Z",
     "start_time": "2023-09-10T12:59:26.442902Z"
    }
   },
   "outputs": [],
   "source": [
    "# dropping duplicate entries\n",
    "data.drop_duplicates(inplace=True)"
   ]
  },
  {
   "cell_type": "code",
   "execution_count": 48,
   "id": "5d3e8f7d",
   "metadata": {
    "ExecuteTime": {
     "end_time": "2023-09-10T12:59:27.805126Z",
     "start_time": "2023-09-10T12:59:27.768288Z"
    }
   },
   "outputs": [
    {
     "name": "stdout",
     "output_type": "stream",
     "text": [
      " Month Speed Range  cas_fcw  cas_hmw  cas_ldw  cas_pcw     max  Total Alerts\n",
      "     6        0-10        7      147       23      169 cas_pcw           346\n",
      "     6       10-20       19      479       51      243 cas_hmw           792\n",
      "     6       20-30       51      964       95      184 cas_hmw          1294\n",
      "     6       30-40       98     1387      205       65 cas_hmw          1755\n",
      "     6       40-50       56     1331      589       15 cas_hmw          1991\n",
      "     6       50-60       43      975     2592       23 cas_ldw          3633\n",
      "     6       60-70        2       17       52        1 cas_ldw            72\n",
      "     7        0-10        1       18        3        5 cas_hmw            27\n",
      "     7       10-20        1       40        4       18 cas_hmw            63\n",
      "     7       20-30        2       61        4       14 cas_hmw            81\n",
      "     7       30-40        7       71       11        4 cas_hmw            93\n",
      "     7       40-50        7       58       20        1 cas_hmw            86\n",
      "     7       50-60        6       66       74        3 cas_ldw           149\n",
      "     7       60-70        0        2        3        0 cas_ldw             5\n",
      "     8        0-10        7      123        7      195 cas_pcw           332\n",
      "     8       10-20       16      411       21      362 cas_hmw           810\n",
      "     8       20-30       44     1190       34      306 cas_hmw          1574\n",
      "     8       30-40       83     1622      107       89 cas_hmw          1901\n",
      "     8       40-50       68     1460      512       31 cas_hmw          2071\n",
      "     8       50-60       51      956     1839       13 cas_ldw          2859\n",
      "     8       60-70        1       22       31        1 cas_ldw            55\n"
     ]
    }
   ],
   "source": [
    "# Define the speed bins\n",
    "speed_bins = [0, 10, 20, 30, 40, 50, 60, 70]\n",
    "speed_labels = [f\"{i}-{j}\" for i, j in zip(speed_bins[:-1], speed_bins[1:])]\n",
    "\n",
    "# Create a new column 'Speed Range' based on the speed bins\n",
    "data['Speed Range'] = pd.cut(data['Speed'], bins=speed_bins, labels=speed_labels)\n",
    "\n",
    "# Convert 'Date' column to datetime type\n",
    "data['Date'] = pd.to_datetime(data['Date'])\n",
    "\n",
    "# Extract the month from the 'Date' column\n",
    "data['Month'] = data['Date'].dt.month\n",
    "\n",
    "# Group by 'Month,' 'Speed Range,' and 'Alert,' and count the occurrences\n",
    "alert_frequency_by_month_speed = data.groupby(['Month', 'Speed Range', 'Alert']).size().reset_index(name='Frequency')\n",
    "\n",
    "# Pivot the table to have Alert types as columns\n",
    "alert_frequency_pivot = alert_frequency_by_month_speed.pivot_table(index=['Month', 'Speed Range'], columns='Alert', values='Frequency', fill_value=0).reset_index()\n",
    "\n",
    "# Add a 'max' column that contains the name of the alert that is maximum in each category\n",
    "alert_frequency_pivot['max'] = alert_frequency_pivot[['cas_fcw', 'cas_pcw', 'cas_ldw', 'cas_hmw']].idxmax(axis=1)\n",
    "\n",
    "# Add a 'Total Alerts' column to calculate the total number of alerts generated in each category\n",
    "alert_frequency_pivot['Total Alerts'] = alert_frequency_pivot[['cas_fcw', 'cas_pcw', 'cas_ldw', 'cas_hmw']].sum(axis=1)\n",
    "\n",
    "pd.set_option('display.max_colwidth', 50)\n",
    "# Display the result\n",
    "print(alert_frequency_pivot.to_string(index=False))"
   ]
  },
  {
   "cell_type": "code",
   "execution_count": 49,
   "id": "f6a4ef52",
   "metadata": {
    "ExecuteTime": {
     "end_time": "2023-09-10T12:59:30.412261Z",
     "start_time": "2023-09-10T12:59:30.398212Z"
    }
   },
   "outputs": [
    {
     "name": "stdout",
     "output_type": "stream",
     "text": [
      "   Month  Frequency\n",
      "0      6       9883\n",
      "1      7        504\n",
      "2      8       9602\n"
     ]
    }
   ],
   "source": [
    "# frequency of alerts by month\n",
    "alerts_by_month = alert_frequency_by_month_speed.groupby('Month')['Frequency'].sum().reset_index()\n",
    "\n",
    "# Display the result\n",
    "print(alerts_by_month)"
   ]
  },
  {
   "cell_type": "code",
   "execution_count": 50,
   "id": "bacb24a6",
   "metadata": {
    "ExecuteTime": {
     "end_time": "2023-09-10T12:59:31.897233Z",
     "start_time": "2023-09-10T12:59:31.872308Z"
    }
   },
   "outputs": [
    {
     "name": "stdout",
     "output_type": "stream",
     "text": [
      "    Month Speed Range  Frequency\n",
      "0       6        0-10        346\n",
      "1       6       10-20        792\n",
      "2       6       20-30       1294\n",
      "3       6       30-40       1755\n",
      "4       6       40-50       1991\n",
      "5       6       50-60       3633\n",
      "6       6       60-70         72\n",
      "7       7        0-10         27\n",
      "8       7       10-20         63\n",
      "9       7       20-30         81\n",
      "10      7       30-40         93\n",
      "11      7       40-50         86\n",
      "12      7       50-60        149\n",
      "13      7       60-70          5\n",
      "14      8        0-10        332\n",
      "15      8       10-20        810\n",
      "16      8       20-30       1574\n",
      "17      8       30-40       1901\n",
      "18      8       40-50       2071\n",
      "19      8       50-60       2859\n",
      "20      8       60-70         55\n"
     ]
    }
   ],
   "source": [
    "# Group by 'Month,' 'Speed Range,' and 'Alert,' and count the occurrences\n",
    "alert_frequency_by_month_speed = data.groupby(['Month', 'Speed Range'])['Alert'].count().reset_index()\n",
    "\n",
    "# Rename the count column for clarity\n",
    "alert_frequency_by_month_speed.rename(columns={'Alert': 'Frequency'}, inplace=True)\n",
    "\n",
    "# Display the result\n",
    "print(alert_frequency_by_month_speed)\n"
   ]
  },
  {
   "cell_type": "code",
   "execution_count": 51,
   "id": "56cb151a",
   "metadata": {
    "ExecuteTime": {
     "end_time": "2023-09-10T12:59:33.927343Z",
     "start_time": "2023-09-10T12:59:33.912464Z"
    }
   },
   "outputs": [
    {
     "name": "stdout",
     "output_type": "stream",
     "text": [
      "  Speed Range  Frequency\n",
      "0        0-10        705\n",
      "1       10-20       1665\n",
      "2       20-30       2949\n",
      "3       30-40       3749\n",
      "4       40-50       4148\n",
      "5       50-60       6641\n",
      "6       60-70        132\n",
      "  Speed Range  Frequency\n",
      "5       50-60       6641\n",
      "4       40-50       4148\n",
      "3       30-40       3749\n",
      "2       20-30       2949\n",
      "1       10-20       1665\n",
      "0        0-10        705\n",
      "6       60-70        132\n"
     ]
    }
   ],
   "source": [
    "# Group by 'Speed Range' and count the occurrences of alerts\n",
    "alerts_by_speed_range = data.groupby('Speed Range')['Alert'].count().reset_index()\n",
    "\n",
    "# Rename the count column for clarity\n",
    "alerts_by_speed_range.rename(columns={'Alert': 'Frequency'}, inplace=True)\n",
    "\n",
    "# Display the result\n",
    "print(alerts_by_speed_range)\n",
    "\n",
    "# Sort the DataFrame by 'Frequency' in decreasing order\n",
    "alerts_by_speed_range_sorted = alerts_by_speed_range.sort_values(by='Frequency', ascending=False)\n",
    "\n",
    "# Display the sorted result\n",
    "print(alerts_by_speed_range_sorted)\n"
   ]
  },
  {
   "cell_type": "code",
   "execution_count": 52,
   "id": "c17d6b1c",
   "metadata": {
    "ExecuteTime": {
     "end_time": "2023-09-10T12:59:35.938591Z",
     "start_time": "2023-09-10T12:59:35.917929Z"
    }
   },
   "outputs": [
    {
     "name": "stdout",
     "output_type": "stream",
     "text": [
      "   Month      Speed\n",
      "0      6  39.067913\n",
      "1      7  36.095057\n",
      "2      8  38.343844\n"
     ]
    }
   ],
   "source": [
    "# Convert 'Date' column to datetime type\n",
    "data['Date'] = pd.to_datetime(data['Date'])\n",
    "\n",
    "# Extract the month from the 'Date' column\n",
    "data['Month'] = data['Date'].dt.month\n",
    "\n",
    "# Group by 'Month' and calculate the average speed for each month\n",
    "average_speed_by_month = data.groupby('Month')['Speed'].mean().reset_index()\n",
    "\n",
    "# Display the result\n",
    "print(average_speed_by_month)"
   ]
  },
  {
   "cell_type": "code",
   "execution_count": 53,
   "id": "434a4f3f",
   "metadata": {
    "ExecuteTime": {
     "end_time": "2023-09-10T12:59:37.485754Z",
     "start_time": "2023-09-10T12:59:37.455854Z"
    }
   },
   "outputs": [
    {
     "name": "stdout",
     "output_type": "stream",
     "text": [
      "    Month  Vehicle      Speed\n",
      "0       6      805  39.126661\n",
      "1       6     1995  25.388889\n",
      "2       6     2846  40.941873\n",
      "3       6     3143  43.492754\n",
      "4       6     5339  35.691006\n",
      "5       7      805  31.938865\n",
      "6       7     2846  47.333333\n",
      "7       7     5339  32.872727\n",
      "8       8      805  36.958709\n",
      "9       8     2846  47.548922\n",
      "10      8     3143  37.499449\n",
      "11      8     5339  34.865227\n"
     ]
    }
   ],
   "source": [
    "# Convert 'Date' column to datetime type\n",
    "data['Date'] = pd.to_datetime(data['Date'])\n",
    "\n",
    "# Extract the month from the 'Date' column\n",
    "data['Month'] = data['Date'].dt.month\n",
    "\n",
    "# Group by 'Month' and 'Vehicle' and calculate the average speed for each combination\n",
    "average_speed_by_month_vehicle = data.groupby(['Month', 'Vehicle'])['Speed'].mean().reset_index()\n",
    "\n",
    "# Display the result\n",
    "print(average_speed_by_month_vehicle)"
   ]
  },
  {
   "cell_type": "code",
   "execution_count": 54,
   "id": "60a87317",
   "metadata": {
    "ExecuteTime": {
     "end_time": "2023-09-10T12:59:39.144835Z",
     "start_time": "2023-09-10T12:59:39.122908Z"
    }
   },
   "outputs": [
    {
     "name": "stdout",
     "output_type": "stream",
     "text": [
      "   Vehicle  Average Speed  Max Speed  Min Speed\n",
      "0      805      38.199493         63          0\n",
      "1     1995      25.388889         58          0\n",
      "2     2846      43.203818         64          0\n",
      "3     3143      37.788535         61          0\n",
      "4     5339      35.133029         65          0\n"
     ]
    }
   ],
   "source": [
    "\n",
    "# Convert 'Date' column to datetime type\n",
    "data['Date'] = pd.to_datetime(data['Date'])\n",
    "\n",
    "# Group by 'Vehicle' and calculate the average, maximum, and minimum speeds for each vehicle\n",
    "vehicle_speed_summary = data.groupby('Vehicle')['Speed'].agg(['mean', 'max', 'min']).reset_index()\n",
    "vehicle_speed_summary.columns = ['Vehicle', 'Average Speed', 'Max Speed', 'Min Speed']\n",
    "\n",
    "# Display the result\n",
    "print(vehicle_speed_summary)"
   ]
  },
  {
   "cell_type": "code",
   "execution_count": 55,
   "id": "57c73a58",
   "metadata": {
    "ExecuteTime": {
     "end_time": "2023-09-10T12:59:40.871934Z",
     "start_time": "2023-09-10T12:59:40.834061Z"
    }
   },
   "outputs": [
    {
     "name": "stdout",
     "output_type": "stream",
     "text": [
      "Alert       Date Speed Range  cas_fcw  cas_hmw  cas_ldw  cas_pcw      max\n",
      "0     2022-06-01        0-10        0        1        1        3  cas_pcw\n",
      "1     2022-06-01       10-20        0       17        7        5  cas_hmw\n",
      "2     2022-06-01       20-30        2       22        6        4  cas_hmw\n",
      "3     2022-06-01       30-40        1       26       19        2  cas_hmw\n",
      "4     2022-06-01       40-50        0       21       38        1  cas_ldw\n",
      "..           ...         ...      ...      ...      ...      ...      ...\n",
      "352   2022-08-31       20-30        1       33        0       11  cas_hmw\n",
      "353   2022-08-31       30-40        5       49        0        2  cas_hmw\n",
      "354   2022-08-31       40-50        2       47       19        1  cas_hmw\n",
      "355   2022-08-31       50-60        0       30       34        0  cas_ldw\n",
      "356   2022-08-31       60-70        0        1        1        0  cas_ldw\n",
      "\n",
      "[357 rows x 7 columns]\n"
     ]
    }
   ],
   "source": [
    "\n",
    "# Define the speed bins\n",
    "speed_bins = [0, 10, 20, 30, 40, 50, 60, 70]\n",
    "speed_labels = [f\"{i}-{j}\" for i, j in zip(speed_bins[:-1], speed_bins[1:])]\n",
    "\n",
    "# Create a new column 'Speed Range' based on the speed bins\n",
    "data['Speed Range'] = pd.cut(data['Speed'], bins=speed_bins, labels=speed_labels)\n",
    "\n",
    "# Convert 'Date' column to datetime type\n",
    "data['Date'] = pd.to_datetime(data['Date'])\n",
    "\n",
    "# Group by 'Year,' 'Month,' 'Day,' 'Speed Range,' and 'Alert,' and count the occurrences\n",
    "alert_frequency_by_date_speed = data.groupby(['Date', 'Speed Range', 'Alert']).size().reset_index(name='Frequency')\n",
    "\n",
    "# Pivot the table to have Alert types as columns\n",
    "alert_frequency_pivot = alert_frequency_by_date_speed.pivot_table(index=['Date', 'Speed Range'], columns='Alert', values='Frequency', fill_value=0).reset_index()\n",
    "\n",
    "# Add a 'max' column that contains the name of the alert that is maximum on each date\n",
    "alert_frequency_pivot['max'] = alert_frequency_pivot[['cas_fcw', 'cas_pcw', 'cas_ldw', 'cas_hmw']].idxmax(axis=1)\n",
    "\n",
    "# Display the result\n",
    "print(alert_frequency_pivot)\n"
   ]
  },
  {
   "cell_type": "markdown",
   "id": "f5b871ab",
   "metadata": {},
   "source": [
    "maximum warning in each month in each speed range came out to be cas_pcw\n",
    "minimum warning cas_fcw"
   ]
  },
  {
   "cell_type": "code",
   "execution_count": 56,
   "id": "e7af7904",
   "metadata": {
    "ExecuteTime": {
     "end_time": "2023-09-10T12:59:43.134888Z",
     "start_time": "2023-09-10T12:59:43.112961Z"
    }
   },
   "outputs": [
    {
     "data": {
      "text/html": [
       "<div>\n",
       "<style scoped>\n",
       "    .dataframe tbody tr th:only-of-type {\n",
       "        vertical-align: middle;\n",
       "    }\n",
       "\n",
       "    .dataframe tbody tr th {\n",
       "        vertical-align: top;\n",
       "    }\n",
       "\n",
       "    .dataframe thead th {\n",
       "        text-align: right;\n",
       "    }\n",
       "</style>\n",
       "<table border=\"1\" class=\"dataframe\">\n",
       "  <thead>\n",
       "    <tr style=\"text-align: right;\">\n",
       "      <th></th>\n",
       "      <th>Alert</th>\n",
       "      <th>Date</th>\n",
       "      <th>Time</th>\n",
       "      <th>Lat</th>\n",
       "      <th>Long</th>\n",
       "      <th>Vehicle</th>\n",
       "      <th>Speed</th>\n",
       "      <th>Speed Range</th>\n",
       "      <th>Month</th>\n",
       "      <th>Latitude</th>\n",
       "      <th>Longitude</th>\n",
       "    </tr>\n",
       "  </thead>\n",
       "  <tbody>\n",
       "    <tr>\n",
       "      <th>0</th>\n",
       "      <td>cas_ldw</td>\n",
       "      <td>2022-06-01</td>\n",
       "      <td>05:36:36</td>\n",
       "      <td>12.887403</td>\n",
       "      <td>80.083412</td>\n",
       "      <td>2846</td>\n",
       "      <td>48</td>\n",
       "      <td>40-50</td>\n",
       "      <td>6</td>\n",
       "      <td>12.89</td>\n",
       "      <td>80.08</td>\n",
       "    </tr>\n",
       "    <tr>\n",
       "      <th>1</th>\n",
       "      <td>cas_ldw</td>\n",
       "      <td>2022-06-01</td>\n",
       "      <td>05:36:47</td>\n",
       "      <td>12.892586</td>\n",
       "      <td>80.085794</td>\n",
       "      <td>2846</td>\n",
       "      <td>58</td>\n",
       "      <td>50-60</td>\n",
       "      <td>6</td>\n",
       "      <td>12.89</td>\n",
       "      <td>80.09</td>\n",
       "    </tr>\n",
       "    <tr>\n",
       "      <th>2</th>\n",
       "      <td>cas_ldw</td>\n",
       "      <td>2022-06-01</td>\n",
       "      <td>05:37:04</td>\n",
       "      <td>12.894932</td>\n",
       "      <td>80.087564</td>\n",
       "      <td>2846</td>\n",
       "      <td>57</td>\n",
       "      <td>50-60</td>\n",
       "      <td>6</td>\n",
       "      <td>12.89</td>\n",
       "      <td>80.09</td>\n",
       "    </tr>\n",
       "    <tr>\n",
       "      <th>3</th>\n",
       "      <td>cas_ldw</td>\n",
       "      <td>2022-06-01</td>\n",
       "      <td>05:37:31</td>\n",
       "      <td>12.898267</td>\n",
       "      <td>80.090062</td>\n",
       "      <td>2846</td>\n",
       "      <td>49</td>\n",
       "      <td>40-50</td>\n",
       "      <td>6</td>\n",
       "      <td>12.90</td>\n",
       "      <td>80.09</td>\n",
       "    </tr>\n",
       "    <tr>\n",
       "      <th>4</th>\n",
       "      <td>cas_ldw</td>\n",
       "      <td>2022-06-01</td>\n",
       "      <td>05:38:08</td>\n",
       "      <td>12.901594</td>\n",
       "      <td>80.092538</td>\n",
       "      <td>2846</td>\n",
       "      <td>58</td>\n",
       "      <td>50-60</td>\n",
       "      <td>6</td>\n",
       "      <td>12.90</td>\n",
       "      <td>80.09</td>\n",
       "    </tr>\n",
       "    <tr>\n",
       "      <th>...</th>\n",
       "      <td>...</td>\n",
       "      <td>...</td>\n",
       "      <td>...</td>\n",
       "      <td>...</td>\n",
       "      <td>...</td>\n",
       "      <td>...</td>\n",
       "      <td>...</td>\n",
       "      <td>...</td>\n",
       "      <td>...</td>\n",
       "      <td>...</td>\n",
       "      <td>...</td>\n",
       "    </tr>\n",
       "    <tr>\n",
       "      <th>21320</th>\n",
       "      <td>cas_pcw</td>\n",
       "      <td>2022-08-31</td>\n",
       "      <td>18:12:29</td>\n",
       "      <td>13.070668</td>\n",
       "      <td>80.265539</td>\n",
       "      <td>5339</td>\n",
       "      <td>30</td>\n",
       "      <td>20-30</td>\n",
       "      <td>8</td>\n",
       "      <td>13.07</td>\n",
       "      <td>80.27</td>\n",
       "    </tr>\n",
       "    <tr>\n",
       "      <th>21321</th>\n",
       "      <td>cas_pcw</td>\n",
       "      <td>2022-08-31</td>\n",
       "      <td>18:13:01</td>\n",
       "      <td>13.071554</td>\n",
       "      <td>80.264616</td>\n",
       "      <td>5339</td>\n",
       "      <td>34</td>\n",
       "      <td>30-40</td>\n",
       "      <td>8</td>\n",
       "      <td>13.07</td>\n",
       "      <td>80.26</td>\n",
       "    </tr>\n",
       "    <tr>\n",
       "      <th>21322</th>\n",
       "      <td>cas_hmw</td>\n",
       "      <td>2022-08-31</td>\n",
       "      <td>18:15:05</td>\n",
       "      <td>13.071181</td>\n",
       "      <td>80.258729</td>\n",
       "      <td>5339</td>\n",
       "      <td>24</td>\n",
       "      <td>20-30</td>\n",
       "      <td>8</td>\n",
       "      <td>13.07</td>\n",
       "      <td>80.26</td>\n",
       "    </tr>\n",
       "    <tr>\n",
       "      <th>21323</th>\n",
       "      <td>cas_pcw</td>\n",
       "      <td>2022-08-31</td>\n",
       "      <td>18:16:35</td>\n",
       "      <td>13.067723</td>\n",
       "      <td>80.255065</td>\n",
       "      <td>5339</td>\n",
       "      <td>23</td>\n",
       "      <td>20-30</td>\n",
       "      <td>8</td>\n",
       "      <td>13.07</td>\n",
       "      <td>80.26</td>\n",
       "    </tr>\n",
       "    <tr>\n",
       "      <th>21324</th>\n",
       "      <td>cas_hmw</td>\n",
       "      <td>2022-08-31</td>\n",
       "      <td>18:19:23</td>\n",
       "      <td>13.065917</td>\n",
       "      <td>80.247777</td>\n",
       "      <td>5339</td>\n",
       "      <td>22</td>\n",
       "      <td>20-30</td>\n",
       "      <td>8</td>\n",
       "      <td>13.07</td>\n",
       "      <td>80.25</td>\n",
       "    </tr>\n",
       "  </tbody>\n",
       "</table>\n",
       "<p>20936 rows × 11 columns</p>\n",
       "</div>"
      ],
      "text/plain": [
       "         Alert       Date      Time        Lat       Long  Vehicle  Speed  \\\n",
       "0      cas_ldw 2022-06-01  05:36:36  12.887403  80.083412     2846     48   \n",
       "1      cas_ldw 2022-06-01  05:36:47  12.892586  80.085794     2846     58   \n",
       "2      cas_ldw 2022-06-01  05:37:04  12.894932  80.087564     2846     57   \n",
       "3      cas_ldw 2022-06-01  05:37:31  12.898267  80.090062     2846     49   \n",
       "4      cas_ldw 2022-06-01  05:38:08  12.901594  80.092538     2846     58   \n",
       "...        ...        ...       ...        ...        ...      ...    ...   \n",
       "21320  cas_pcw 2022-08-31  18:12:29  13.070668  80.265539     5339     30   \n",
       "21321  cas_pcw 2022-08-31  18:13:01  13.071554  80.264616     5339     34   \n",
       "21322  cas_hmw 2022-08-31  18:15:05  13.071181  80.258729     5339     24   \n",
       "21323  cas_pcw 2022-08-31  18:16:35  13.067723  80.255065     5339     23   \n",
       "21324  cas_hmw 2022-08-31  18:19:23  13.065917  80.247777     5339     22   \n",
       "\n",
       "      Speed Range  Month  Latitude  Longitude  \n",
       "0           40-50      6     12.89      80.08  \n",
       "1           50-60      6     12.89      80.09  \n",
       "2           50-60      6     12.89      80.09  \n",
       "3           40-50      6     12.90      80.09  \n",
       "4           50-60      6     12.90      80.09  \n",
       "...           ...    ...       ...        ...  \n",
       "21320       20-30      8     13.07      80.27  \n",
       "21321       30-40      8     13.07      80.26  \n",
       "21322       20-30      8     13.07      80.26  \n",
       "21323       20-30      8     13.07      80.26  \n",
       "21324       20-30      8     13.07      80.25  \n",
       "\n",
       "[20936 rows x 11 columns]"
      ]
     },
     "execution_count": 56,
     "metadata": {},
     "output_type": "execute_result"
    }
   ],
   "source": [
    "data['Latitude'] = data['Lat'].round(2)\n",
    "data['Longitude'] = data['Long'].round(2)\n",
    "data"
   ]
  },
  {
   "cell_type": "code",
   "execution_count": 57,
   "id": "707213c7",
   "metadata": {
    "ExecuteTime": {
     "end_time": "2023-09-10T12:59:45.581184Z",
     "start_time": "2023-09-10T12:59:45.535340Z"
    }
   },
   "outputs": [
    {
     "name": "stdout",
     "output_type": "stream",
     "text": [
      "     Latitude  Longitude  Total Alerts <lambda_0>\n",
      "0       12.34      79.78             4    cas_ldw\n",
      "1       12.35      79.77             1    cas_ldw\n",
      "2       12.36      79.78             1    cas_ldw\n",
      "3       12.37      79.78             1    cas_ldw\n",
      "4       12.38      79.78             2    cas_ldw\n",
      "..        ...        ...           ...        ...\n",
      "312     13.14      80.30             1    cas_hmw\n",
      "313     13.15      80.30             1    cas_fcw\n",
      "314     13.17      80.24             9    cas_hmw\n",
      "315     13.18      80.31             2    cas_hmw\n",
      "316     13.18      80.32             1    cas_hmw\n",
      "\n",
      "[317 rows x 4 columns]\n"
     ]
    }
   ],
   "source": [
    "# Group by 'Latitude' and 'Longitude', count the alerts, and find the most common alert\n",
    "location_alerts = data.groupby(['Latitude', 'Longitude'])['Alert'].agg(['count', lambda x: x.mode()[0]]).reset_index()\n",
    "\n",
    "# Rename the columns for clarity\n",
    "location_alerts.rename(columns={'count': 'Total Alerts', 'mode': 'Most Common Alert'}, inplace=True)\n",
    "\n",
    "# Display the result\n",
    "print(location_alerts)"
   ]
  },
  {
   "cell_type": "code",
   "execution_count": 58,
   "id": "00578a83",
   "metadata": {
    "ExecuteTime": {
     "end_time": "2023-09-10T12:59:47.720353Z",
     "start_time": "2023-09-10T12:59:47.701419Z"
    }
   },
   "outputs": [
    {
     "name": "stdout",
     "output_type": "stream",
     "text": [
      "     Latitude  Longitude  Total Alerts <lambda_0>\n",
      "150     12.94      80.13           654    cas_hmw\n",
      "158     12.95      80.14           605    cas_hmw\n",
      "109     12.88      80.08           605    cas_hmw\n",
      "128     12.92      80.11           600    cas_hmw\n",
      "142     12.93      80.12           537    cas_hmw\n",
      "..        ...        ...           ...        ...\n",
      "86      12.83      80.13             1    cas_hmw\n",
      "85      12.83      80.12             1    cas_pcw\n",
      "81      12.82      80.17             1    cas_hmw\n",
      "286     13.08      80.26             1    cas_hmw\n",
      "316     13.18      80.32             1    cas_hmw\n",
      "\n",
      "[317 rows x 4 columns]\n"
     ]
    }
   ],
   "source": [
    "# Sort the DataFrame by \"Total Alerts\" column in descending order\n",
    "location_alerts_sorted = location_alerts.sort_values(by=\"Total Alerts\", ascending=False)\n",
    "\n",
    "# Display the result\n",
    "print(location_alerts_sorted)\n",
    "location_alerts_sorted.to_csv(\"location_alerts_sorted.csv\")"
   ]
  },
  {
   "cell_type": "code",
   "execution_count": 59,
   "id": "e62e2256",
   "metadata": {
    "ExecuteTime": {
     "end_time": "2023-09-10T12:59:52.362224Z",
     "start_time": "2023-09-10T12:59:52.343757Z"
    }
   },
   "outputs": [
    {
     "name": "stdout",
     "output_type": "stream",
     "text": [
      "     Alert  Frequency\n",
      "0  cas_hmw      11939\n",
      "1  cas_ldw       6431\n",
      "2  cas_pcw       1976\n",
      "3  cas_fcw        590\n"
     ]
    }
   ],
   "source": [
    "# Assuming your DataFrame has a column named 'Alert' for alert types\n",
    "alert_frequency = data['Alert'].value_counts().reset_index()\n",
    "\n",
    "# Rename the columns for clarity\n",
    "alert_frequency.columns = ['Alert', 'Frequency']\n",
    "\n",
    "# Display the result\n",
    "print(alert_frequency)\n"
   ]
  },
  {
   "cell_type": "code",
   "execution_count": 62,
   "id": "d094863b",
   "metadata": {
    "ExecuteTime": {
     "end_time": "2023-09-10T13:05:01.542689Z",
     "start_time": "2023-09-10T13:02:21.170331Z"
    }
   },
   "outputs": [
    {
     "name": "stdout",
     "output_type": "stream",
     "text": [
      "     Latitude  Longitude  Total Alerts <lambda_0>  \\\n",
      "150     12.94      80.13           654    cas_hmw   \n",
      "158     12.95      80.14           605    cas_hmw   \n",
      "109     12.88      80.08           605    cas_hmw   \n",
      "128     12.92      80.11           600    cas_hmw   \n",
      "142     12.93      80.12           537    cas_hmw   \n",
      "..        ...        ...           ...        ...   \n",
      "86      12.83      80.13             1    cas_hmw   \n",
      "85      12.83      80.12             1    cas_pcw   \n",
      "81      12.82      80.17             1    cas_hmw   \n",
      "286     13.08      80.26             1    cas_hmw   \n",
      "316     13.18      80.32             1    cas_hmw   \n",
      "\n",
      "                                              Location  \n",
      "150  Government Hospital of Thoracic Medicine, kupp...  \n",
      "158  Chromepet, Pallavaram, Chengalpattu District, ...  \n",
      "109  Vandalur zoo, Grand Southern Trunk Road, Vanda...  \n",
      "128  Irumbuliyur, Tambaram, Chengalpattu District, ...  \n",
      "142  Gandhi Road, East Tambaram, Tambaram, Chengalp...  \n",
      "..                                                 ...  \n",
      "86   Kumizhi, Chengalpattu, Chengalpattu District, ...  \n",
      "85   Chengalpattu, Chengalpattu District, Tamil Nad...  \n",
      "81   Vandalur - Mambakkam - Kelambakkam Road, Kolap...  \n",
      "286  EVR Periyar Salai, Mahaveer Colony, CMWSSB Div...  \n",
      "316  Chennai - Ennore Expressway Road, CMWSSB Divis...  \n",
      "\n",
      "[317 rows x 5 columns]\n"
     ]
    }
   ],
   "source": [
    "from geopy.geocoders import Nominatim\n",
    "from geopy.exc import GeocoderTimedOut, GeocoderServiceError\n",
    "\n",
    "# Create a geocoder instance\n",
    "geolocator = Nominatim(user_agent=\"myGeocoder\")\n",
    "\n",
    "# Initialize empty lists to store location information\n",
    "locations = []\n",
    "for index, row in location_alerts_sorted.iterrows():\n",
    "    latitude = row['Latitude']\n",
    "    longitude = row['Longitude']\n",
    "    \n",
    "    # Perform reverse geocoding with error handling and retries\n",
    "    retries = 3\n",
    "    while retries > 0:\n",
    "        try:\n",
    "            location = geolocator.reverse((latitude, longitude), exactly_one=True)\n",
    "            if location:\n",
    "                locations.append(location.address)\n",
    "            else:\n",
    "                locations.append(\"Location not found\")\n",
    "            break  # Break the retry loop if successful\n",
    "        except (GeocoderTimedOut, GeocoderServiceError) as e:\n",
    "            print(f\"Geocoding request failed. Retrying... ({retries} retries left)\")\n",
    "            retries -= 1\n",
    "\n",
    "# Add the location information to the DataFrame\n",
    "location_alerts_sorted['Location'] = locations\n",
    "\n",
    "# Display the DataFrame with location information\n",
    "print(location_alerts_sorted)"
   ]
  },
  {
   "cell_type": "code",
   "execution_count": null,
   "id": "196d312e",
   "metadata": {
    "ExecuteTime": {
     "end_time": "2023-09-10T13:01:35.632046Z",
     "start_time": "2023-09-10T13:01:35.632046Z"
    }
   },
   "outputs": [],
   "source": [
    "# Group by 'Latitude' and 'Longitude', count the alerts, and find the most common alert\n",
    "location_alerts = data.groupby(['Latitude', 'Longitude'])['Alert'].agg(['count', lambda x: x.mode()[0]]).reset_index()\n",
    "\n",
    "# Rename the columns for clarity\n",
    "location_alerts.rename(columns={'count': 'Total Alerts', '<lambda>': 'Most Common Alert'}, inplace=True)\n",
    "\n",
    "# Calculate the average speed for each group\n",
    "location_avg_speed = data.groupby(['Latitude', 'Longitude'])['Speed'].mean().reset_index()\n",
    "\n",
    "# Round the average speed to 3 decimal places\n",
    "location_avg_speed['Average Speed'] = location_avg_speed['Speed'].round(3)\n",
    "\n",
    "# Drop the 'Speed' column, as we now have the rounded average speed\n",
    "location_avg_speed.drop(columns=['Speed'], inplace=True)\n",
    "\n",
    "# Merge the two DataFrames based on 'Latitude' and 'Longitude'\n",
    "result = pd.merge(location_alerts, location_avg_speed, on=['Latitude', 'Longitude'])\n",
    "\n",
    "# Display the result\n",
    "print(result.sort_values(by=\"Average Speed\", ascending=False,inplace = True))\n",
    "print (result)"
   ]
  },
  {
   "cell_type": "code",
   "execution_count": 64,
   "id": "bd85b2dc",
   "metadata": {
    "ExecuteTime": {
     "end_time": "2023-09-08T18:29:24.528999Z",
     "start_time": "2023-09-08T18:29:24.497143Z"
    }
   },
   "outputs": [
    {
     "data": {
      "text/html": [
       "<div>\n",
       "<style scoped>\n",
       "    .dataframe tbody tr th:only-of-type {\n",
       "        vertical-align: middle;\n",
       "    }\n",
       "\n",
       "    .dataframe tbody tr th {\n",
       "        vertical-align: top;\n",
       "    }\n",
       "\n",
       "    .dataframe thead th {\n",
       "        text-align: right;\n",
       "    }\n",
       "</style>\n",
       "<table border=\"1\" class=\"dataframe\">\n",
       "  <thead>\n",
       "    <tr style=\"text-align: right;\">\n",
       "      <th></th>\n",
       "      <th>Latitude</th>\n",
       "      <th>Longitude</th>\n",
       "      <th>Total Alerts</th>\n",
       "      <th>Most Common Alert</th>\n",
       "      <th>Location</th>\n",
       "      <th>Average_speed</th>\n",
       "    </tr>\n",
       "  </thead>\n",
       "  <tbody>\n",
       "    <tr>\n",
       "      <th>150</th>\n",
       "      <td>12.94</td>\n",
       "      <td>80.13</td>\n",
       "      <td>654</td>\n",
       "      <td>cas_hmw</td>\n",
       "      <td>Government Hospital of Thoracic Medicine, kupp...</td>\n",
       "      <td>37.878</td>\n",
       "    </tr>\n",
       "    <tr>\n",
       "      <th>158</th>\n",
       "      <td>12.95</td>\n",
       "      <td>80.14</td>\n",
       "      <td>605</td>\n",
       "      <td>cas_hmw</td>\n",
       "      <td>Chromepet, Pallavaram, Chengalpattu District, ...</td>\n",
       "      <td>36.089</td>\n",
       "    </tr>\n",
       "    <tr>\n",
       "      <th>109</th>\n",
       "      <td>12.88</td>\n",
       "      <td>80.08</td>\n",
       "      <td>605</td>\n",
       "      <td>cas_hmw</td>\n",
       "      <td>Vandalur zoo, Grand Southern Trunk Road, Vanda...</td>\n",
       "      <td>24.357</td>\n",
       "    </tr>\n",
       "    <tr>\n",
       "      <th>128</th>\n",
       "      <td>12.92</td>\n",
       "      <td>80.11</td>\n",
       "      <td>600</td>\n",
       "      <td>cas_hmw</td>\n",
       "      <td>Irumbuliyur, Tambaram, Chengalpattu District, ...</td>\n",
       "      <td>43.308</td>\n",
       "    </tr>\n",
       "    <tr>\n",
       "      <th>142</th>\n",
       "      <td>12.93</td>\n",
       "      <td>80.12</td>\n",
       "      <td>537</td>\n",
       "      <td>cas_hmw</td>\n",
       "      <td>Gandhi Road, East Tambaram, Tambaram, Chengalp...</td>\n",
       "      <td>33.214</td>\n",
       "    </tr>\n",
       "    <tr>\n",
       "      <th>...</th>\n",
       "      <td>...</td>\n",
       "      <td>...</td>\n",
       "      <td>...</td>\n",
       "      <td>...</td>\n",
       "      <td>...</td>\n",
       "      <td>...</td>\n",
       "    </tr>\n",
       "    <tr>\n",
       "      <th>86</th>\n",
       "      <td>12.83</td>\n",
       "      <td>80.13</td>\n",
       "      <td>1</td>\n",
       "      <td>cas_hmw</td>\n",
       "      <td>Kumizhi, Chengalpattu, Chengalpattu District, ...</td>\n",
       "      <td>40.000</td>\n",
       "    </tr>\n",
       "    <tr>\n",
       "      <th>85</th>\n",
       "      <td>12.83</td>\n",
       "      <td>80.12</td>\n",
       "      <td>1</td>\n",
       "      <td>cas_pcw</td>\n",
       "      <td>Chengalpattu, Chengalpattu District, Tamil Nad...</td>\n",
       "      <td>13.000</td>\n",
       "    </tr>\n",
       "    <tr>\n",
       "      <th>81</th>\n",
       "      <td>12.82</td>\n",
       "      <td>80.17</td>\n",
       "      <td>1</td>\n",
       "      <td>cas_hmw</td>\n",
       "      <td>Vandalur - Mambakkam - Kelambakkam Road, Kolap...</td>\n",
       "      <td>48.000</td>\n",
       "    </tr>\n",
       "    <tr>\n",
       "      <th>286</th>\n",
       "      <td>13.08</td>\n",
       "      <td>80.26</td>\n",
       "      <td>1</td>\n",
       "      <td>cas_hmw</td>\n",
       "      <td>EVR Periyar Salai, Mahaveer Colony, CMWSSB Div...</td>\n",
       "      <td>36.000</td>\n",
       "    </tr>\n",
       "    <tr>\n",
       "      <th>316</th>\n",
       "      <td>13.18</td>\n",
       "      <td>80.32</td>\n",
       "      <td>1</td>\n",
       "      <td>cas_hmw</td>\n",
       "      <td>Chennai - Ennore Expressway Road, CMWSSB Divis...</td>\n",
       "      <td>31.000</td>\n",
       "    </tr>\n",
       "  </tbody>\n",
       "</table>\n",
       "<p>317 rows × 6 columns</p>\n",
       "</div>"
      ],
      "text/plain": [
       "     Latitude  Longitude  Total Alerts Most Common Alert  \\\n",
       "150     12.94      80.13           654           cas_hmw   \n",
       "158     12.95      80.14           605           cas_hmw   \n",
       "109     12.88      80.08           605           cas_hmw   \n",
       "128     12.92      80.11           600           cas_hmw   \n",
       "142     12.93      80.12           537           cas_hmw   \n",
       "..        ...        ...           ...               ...   \n",
       "86      12.83      80.13             1           cas_hmw   \n",
       "85      12.83      80.12             1           cas_pcw   \n",
       "81      12.82      80.17             1           cas_hmw   \n",
       "286     13.08      80.26             1           cas_hmw   \n",
       "316     13.18      80.32             1           cas_hmw   \n",
       "\n",
       "                                              Location  Average_speed  \n",
       "150  Government Hospital of Thoracic Medicine, kupp...         37.878  \n",
       "158  Chromepet, Pallavaram, Chengalpattu District, ...         36.089  \n",
       "109  Vandalur zoo, Grand Southern Trunk Road, Vanda...         24.357  \n",
       "128  Irumbuliyur, Tambaram, Chengalpattu District, ...         43.308  \n",
       "142  Gandhi Road, East Tambaram, Tambaram, Chengalp...         33.214  \n",
       "..                                                 ...            ...  \n",
       "86   Kumizhi, Chengalpattu, Chengalpattu District, ...         40.000  \n",
       "85   Chengalpattu, Chengalpattu District, Tamil Nad...         13.000  \n",
       "81   Vandalur - Mambakkam - Kelambakkam Road, Kolap...         48.000  \n",
       "286  EVR Periyar Salai, Mahaveer Colony, CMWSSB Div...         36.000  \n",
       "316  Chennai - Ennore Expressway Road, CMWSSB Divis...         31.000  \n",
       "\n",
       "[317 rows x 6 columns]"
      ]
     },
     "execution_count": 64,
     "metadata": {},
     "output_type": "execute_result"
    }
   ],
   "source": [
    "location_alerts_sorted[\"Average_speed\"] = result[\"Average Speed\"]\n",
    "location_alerts_sorted.rename(columns={'<lambda_0>': 'Most Common Alert'}, inplace=True)"
   ]
  },
  {
   "cell_type": "code",
   "execution_count": 43,
   "id": "f88764b0",
   "metadata": {
    "ExecuteTime": {
     "end_time": "2023-09-10T12:49:33.219348Z",
     "start_time": "2023-09-10T12:49:33.208386Z"
    }
   },
   "outputs": [
    {
     "name": "stdout",
     "output_type": "stream",
     "text": [
      "   Latitude  Longitude                                           Location  \\\n",
      "0     12.94      80.13  Government Hospital of Thoracic Medicine, kupp...   \n",
      "1     12.95      80.14  Chromepet, Pallavaram, Chengalpattu District, ...   \n",
      "2     12.88      80.08  Vandalur zoo, Grand Southern Trunk Road, Vanda...   \n",
      "3     12.92      80.11  Irumbuliyur, Tambaram, Chengalpattu District, ...   \n",
      "4     12.93      80.12  Gandhi Road, East Tambaram, Tambaram, Chengalp...   \n",
      "5     12.91      80.10  Grand Southern Trunk Road, Peerkankaranai, Iru...   \n",
      "6     12.99      80.18  CMWSSB Division 201, St.Thomas Mount-Pallavara...   \n",
      "7     12.97      80.15  Alandur, Chennai District, Tamil Nadu, 600043,...   \n",
      "8     12.90      80.09  Tambaram, Chengalpattu District, Tamil Nadu, 6...   \n",
      "9     13.01      80.21  CMWSSB Division 170, St. Thomas Mount Cantonme...   \n",
      "\n",
      "   Total Alerts  \n",
      "0           654  \n",
      "1           605  \n",
      "2           605  \n",
      "3           600  \n",
      "4           537  \n",
      "5           513  \n",
      "6           453  \n",
      "7           452  \n",
      "8           444  \n",
      "9           422  \n"
     ]
    }
   ],
   "source": [
    "data = pd.read_csv(\"location.csv\")\n",
    "# Assuming you have a DataFrame named data\n",
    "print(data[[\"Latitude\", 'Longitude', 'Location','Total Alerts']].head(10))\n"
   ]
  },
  {
   "cell_type": "code",
   "execution_count": 5,
   "id": "f39c464a",
   "metadata": {
    "ExecuteTime": {
     "end_time": "2023-09-10T09:13:05.579827Z",
     "start_time": "2023-09-10T09:13:05.549493Z"
    }
   },
   "outputs": [
    {
     "name": "stdout",
     "output_type": "stream",
     "text": [
      "     Unnamed: 0  Latitude  Longitude  Total Alerts Most Common Alert  \\\n",
      "0           150     12.94      80.13           654           cas_hmw   \n",
      "1           158     12.95      80.14           605           cas_hmw   \n",
      "128         151     12.94      80.14            28           cas_hmw   \n",
      "\n",
      "                                              Location  Average_speed  \n",
      "0    Government Hospital of Thoracic Medicine, kupp...         37.878  \n",
      "1    Chromepet, Pallavaram, Chengalpattu District, ...         36.089  \n",
      "128  Chitlapakkam, Tambaram, Chengalpattu District,...         48.286  \n"
     ]
    }
   ],
   "source": [
    "\n",
    "# Find the rows where Latitude is approximately 12.88 and Longitude is approximately 80.08\n",
    "location_data = data[(data['Latitude'].between(12.94, 12.95)) & (data['Longitude'].between(80.13, 80.14))]\n",
    "\n",
    "# Display the location data\n",
    "print(location_data)"
   ]
  },
  {
   "cell_type": "code",
   "execution_count": 43,
   "id": "c20c22ce",
   "metadata": {
    "ExecuteTime": {
     "end_time": "2023-09-09T17:13:16.158740Z",
     "start_time": "2023-09-09T17:13:16.149100Z"
    }
   },
   "outputs": [
    {
     "data": {
      "text/plain": [
       "'Government Hospital of Thoracic Medicine, kuppuswamy Street, Chitlapakkam, Tambaram, Chengalpattu District, Tamil Nadu, 600064, India'"
      ]
     },
     "execution_count": 43,
     "metadata": {},
     "output_type": "execute_result"
    }
   ],
   "source": [
    "location_alerts_sorted[\"Location\"][0]\n",
    "#chengalpattu"
   ]
  },
  {
   "cell_type": "code",
   "execution_count": 67,
   "id": "23f7f493",
   "metadata": {
    "ExecuteTime": {
     "end_time": "2023-09-08T18:31:44.287349Z",
     "start_time": "2023-09-08T18:31:44.273404Z"
    }
   },
   "outputs": [],
   "source": [
    "location_alerts_sorted.to_csv(\"location.csv\")"
   ]
  },
  {
   "cell_type": "code",
   "execution_count": 31,
   "id": "74039bb4",
   "metadata": {
    "ExecuteTime": {
     "end_time": "2023-09-09T17:05:33.937571Z",
     "start_time": "2023-09-09T17:05:33.900958Z"
    }
   },
   "outputs": [
    {
     "name": "stdout",
     "output_type": "stream",
     "text": [
      "   Vehicle  Event Frequency\n",
      "0      805             6702\n",
      "4     5339             5698\n",
      "2     2846             5657\n",
      "3     3143             2861\n",
      "1     1995               18\n"
     ]
    }
   ],
   "source": [
    "\n",
    "# Group by 'Vehicle ID' and count the frequency of ADAS events\n",
    "vehicle_event_frequency = data.groupby('Vehicle')['Alert'].count().reset_index()\n",
    "\n",
    "# Rename the columns for clarity\n",
    "vehicle_event_frequency.rename(columns={'Alert': 'Event Frequency'}, inplace=True)\n",
    "\n",
    "# Sort the DataFrame by 'Event Frequency' in descending order to see the vehicles with the most events first\n",
    "vehicle_event_frequency.sort_values(by='Event Frequency', ascending=False, inplace=True)\n",
    "\n",
    "# Display the result\n",
    "print(vehicle_event_frequency)\n"
   ]
  },
  {
   "cell_type": "code",
   "execution_count": 80,
   "id": "220e5029",
   "metadata": {
    "ExecuteTime": {
     "end_time": "2023-09-10T07:26:49.898458Z",
     "start_time": "2023-09-10T07:26:49.850885Z"
    }
   },
   "outputs": [
    {
     "name": "stdout",
     "output_type": "stream",
     "text": [
      "    Month  Vehicle  Event Frequency\n",
      "0       6      805             4366\n",
      "2       6     2846             3716\n",
      "4       6     5339             2246\n",
      "3       6     3143              138\n",
      "1       6     1995               18\n",
      "5       7      805              229\n",
      "7       7     5339              165\n",
      "6       7     2846              132\n",
      "11      8     5339             3287\n",
      "10      8     3143             2723\n",
      "8       8      805             2107\n",
      "9       8     2846             1809\n"
     ]
    }
   ],
   "source": [
    "\n",
    "# Convert 'Date' column to datetime type\n",
    "data['Date'] = pd.to_datetime(data['Date'])\n",
    "\n",
    "# Extract the month from the 'Date' column\n",
    "data['Month'] = data['Date'].dt.month\n",
    "\n",
    "# Group by 'Month' and 'Vehicle' and count the frequency of ADAS events\n",
    "vehicle_event_frequency_monthly = data.groupby(['Month', 'Vehicle'])['Alert'].count().reset_index()\n",
    "\n",
    "# Rename the columns for clarity\n",
    "vehicle_event_frequency_monthly.rename(columns={'Alert': 'Event Frequency'}, inplace=True)\n",
    "\n",
    "# Sort the DataFrame by 'Event Frequency' in descending order to see the vehicles with the most events first\n",
    "vehicle_event_frequency_monthly.sort_values(by=['Month', 'Event Frequency'], ascending=[True, False], inplace=True)\n",
    "\n",
    "# Display the result\n",
    "print(vehicle_event_frequency_monthly)\n"
   ]
  },
  {
   "cell_type": "code",
   "execution_count": 37,
   "id": "832e9a33",
   "metadata": {
    "ExecuteTime": {
     "end_time": "2023-09-09T17:07:07.951192Z",
     "start_time": "2023-09-09T17:07:07.924795Z"
    }
   },
   "outputs": [
    {
     "name": "stdout",
     "output_type": "stream",
     "text": [
      "        Alert        Date      Time        Lat       Long  Vehicle  Speed\n",
      "276   cas_ldw  2022-06-01  08:20:47  13.006265  80.127376     1995     58\n",
      "278   cas_hmw  2022-06-01  08:21:29  12.999845  80.125450     1995     58\n",
      "279   cas_hmw  2022-06-01  08:24:06  12.984884  80.120986     1995     58\n",
      "280   cas_ldw  2022-06-01  08:25:24  12.980213  80.120703     1995     58\n",
      "281   cas_ldw  2022-06-01  08:25:46  12.975876  80.119640     1995     55\n",
      "3078  cas_ldw  2022-06-08  08:17:28  13.011778  80.127567     1995     55\n",
      "3088  cas_ldw  2022-06-08  08:24:45  12.951457  80.114937     1995     58\n",
      "3089  cas_ldw  2022-06-08  08:25:13  12.950195  80.110670     1995     57\n",
      "3091  cas_ldw  2022-06-08  08:25:52  12.946238  80.106785     1995      0\n",
      "3349  cas_pcw  2022-06-09  07:32:43  13.169852  80.239483     1995      0\n",
      "3354  cas_hmw  2022-06-09  07:35:00  13.169839  80.239495     1995      0\n",
      "3355  cas_hmw  2022-06-09  07:35:05  13.169839  80.239495     1995      0\n",
      "3356  cas_hmw  2022-06-09  07:35:15  13.169839  80.239495     1995      0\n",
      "3358  cas_hmw  2022-06-09  07:37:52  13.169839  80.239495     1995      0\n",
      "3360  cas_hmw  2022-06-09  07:39:34  13.169853  80.239518     1995      0\n",
      "3361  cas_hmw  2022-06-09  07:39:53  13.169853  80.239518     1995      0\n",
      "3365  cas_fcw  2022-06-09  07:41:07  13.169853  80.239518     1995      0\n",
      "3366  cas_ldw  2022-06-09  07:42:28  13.169865  80.239507     1995      0\n"
     ]
    }
   ],
   "source": [
    "vehicle_1995_data = data[data['Vehicle'] == 1995]\n",
    "\n",
    "# Display the rows for vehicle 1995\n",
    "print(vehicle_1995_data)\n",
    "#adas system is not detecting properly"
   ]
  },
  {
   "cell_type": "code",
   "execution_count": 62,
   "id": "29a46fe2",
   "metadata": {
    "ExecuteTime": {
     "end_time": "2023-09-09T19:13:22.538152Z",
     "start_time": "2023-09-09T19:13:22.487950Z"
    }
   },
   "outputs": [
    {
     "name": "stderr",
     "output_type": "stream",
     "text": [
      "C:\\Users\\lenovo\\AppData\\Local\\Temp\\ipykernel_28276\\2767438683.py:8: SettingWithCopyWarning: \n",
      "A value is trying to be set on a copy of a slice from a DataFrame.\n",
      "Try using .loc[row_indexer,col_indexer] = value instead\n",
      "\n",
      "See the caveats in the documentation: https://pandas.pydata.org/pandas-docs/stable/user_guide/indexing.html#returning-a-view-versus-a-copy\n",
      "  zero['Latitude'] = zero['Lat'].round(2)\n",
      "C:\\Users\\lenovo\\AppData\\Local\\Temp\\ipykernel_28276\\2767438683.py:9: SettingWithCopyWarning: \n",
      "A value is trying to be set on a copy of a slice from a DataFrame.\n",
      "Try using .loc[row_indexer,col_indexer] = value instead\n",
      "\n",
      "See the caveats in the documentation: https://pandas.pydata.org/pandas-docs/stable/user_guide/indexing.html#returning-a-view-versus-a-copy\n",
      "  zero['Longitude'] = zero['Long'].round(2)\n"
     ]
    },
    {
     "data": {
      "text/html": [
       "<div>\n",
       "<style scoped>\n",
       "    .dataframe tbody tr th:only-of-type {\n",
       "        vertical-align: middle;\n",
       "    }\n",
       "\n",
       "    .dataframe tbody tr th {\n",
       "        vertical-align: top;\n",
       "    }\n",
       "\n",
       "    .dataframe thead th {\n",
       "        text-align: right;\n",
       "    }\n",
       "</style>\n",
       "<table border=\"1\" class=\"dataframe\">\n",
       "  <thead>\n",
       "    <tr style=\"text-align: right;\">\n",
       "      <th></th>\n",
       "      <th>Alert</th>\n",
       "      <th>Date</th>\n",
       "      <th>Time</th>\n",
       "      <th>Lat</th>\n",
       "      <th>Long</th>\n",
       "      <th>Vehicle</th>\n",
       "      <th>Speed</th>\n",
       "      <th>Latitude</th>\n",
       "      <th>Longitude</th>\n",
       "    </tr>\n",
       "  </thead>\n",
       "  <tbody>\n",
       "    <tr>\n",
       "      <th>38</th>\n",
       "      <td>cas_hmw</td>\n",
       "      <td>2022-06-01</td>\n",
       "      <td>06:16:46</td>\n",
       "      <td>12.795046</td>\n",
       "      <td>80.020296</td>\n",
       "      <td>805</td>\n",
       "      <td>0</td>\n",
       "      <td>12.80</td>\n",
       "      <td>80.02</td>\n",
       "    </tr>\n",
       "    <tr>\n",
       "      <th>57</th>\n",
       "      <td>cas_ldw</td>\n",
       "      <td>2022-06-01</td>\n",
       "      <td>06:24:57</td>\n",
       "      <td>13.024305</td>\n",
       "      <td>80.228471</td>\n",
       "      <td>2846</td>\n",
       "      <td>0</td>\n",
       "      <td>13.02</td>\n",
       "      <td>80.23</td>\n",
       "    </tr>\n",
       "    <tr>\n",
       "      <th>124</th>\n",
       "      <td>cas_ldw</td>\n",
       "      <td>2022-06-01</td>\n",
       "      <td>07:08:32</td>\n",
       "      <td>12.516883</td>\n",
       "      <td>79.887983</td>\n",
       "      <td>805</td>\n",
       "      <td>0</td>\n",
       "      <td>12.52</td>\n",
       "      <td>79.89</td>\n",
       "    </tr>\n",
       "    <tr>\n",
       "      <th>134</th>\n",
       "      <td>cas_ldw</td>\n",
       "      <td>2022-06-01</td>\n",
       "      <td>07:12:53</td>\n",
       "      <td>12.543551</td>\n",
       "      <td>79.904835</td>\n",
       "      <td>805</td>\n",
       "      <td>0</td>\n",
       "      <td>12.54</td>\n",
       "      <td>79.90</td>\n",
       "    </tr>\n",
       "    <tr>\n",
       "      <th>198</th>\n",
       "      <td>cas_ldw</td>\n",
       "      <td>2022-06-01</td>\n",
       "      <td>07:47:18</td>\n",
       "      <td>12.697172</td>\n",
       "      <td>79.972959</td>\n",
       "      <td>805</td>\n",
       "      <td>0</td>\n",
       "      <td>12.70</td>\n",
       "      <td>79.97</td>\n",
       "    </tr>\n",
       "    <tr>\n",
       "      <th>...</th>\n",
       "      <td>...</td>\n",
       "      <td>...</td>\n",
       "      <td>...</td>\n",
       "      <td>...</td>\n",
       "      <td>...</td>\n",
       "      <td>...</td>\n",
       "      <td>...</td>\n",
       "      <td>...</td>\n",
       "      <td>...</td>\n",
       "    </tr>\n",
       "    <tr>\n",
       "      <th>21100</th>\n",
       "      <td>cas_hmw</td>\n",
       "      <td>2022-08-31</td>\n",
       "      <td>06:37:55</td>\n",
       "      <td>13.038943</td>\n",
       "      <td>80.246828</td>\n",
       "      <td>5339</td>\n",
       "      <td>0</td>\n",
       "      <td>13.04</td>\n",
       "      <td>80.25</td>\n",
       "    </tr>\n",
       "    <tr>\n",
       "      <th>21135</th>\n",
       "      <td>cas_pcw</td>\n",
       "      <td>2022-08-31</td>\n",
       "      <td>07:28:23</td>\n",
       "      <td>13.053098</td>\n",
       "      <td>80.272004</td>\n",
       "      <td>5339</td>\n",
       "      <td>0</td>\n",
       "      <td>13.05</td>\n",
       "      <td>80.27</td>\n",
       "    </tr>\n",
       "    <tr>\n",
       "      <th>21220</th>\n",
       "      <td>cas_ldw</td>\n",
       "      <td>2022-08-31</td>\n",
       "      <td>08:23:58</td>\n",
       "      <td>12.923263</td>\n",
       "      <td>80.120547</td>\n",
       "      <td>3143</td>\n",
       "      <td>0</td>\n",
       "      <td>12.92</td>\n",
       "      <td>80.12</td>\n",
       "    </tr>\n",
       "    <tr>\n",
       "      <th>21227</th>\n",
       "      <td>cas_hmw</td>\n",
       "      <td>2022-08-31</td>\n",
       "      <td>08:28:55</td>\n",
       "      <td>12.909345</td>\n",
       "      <td>80.099412</td>\n",
       "      <td>3143</td>\n",
       "      <td>0</td>\n",
       "      <td>12.91</td>\n",
       "      <td>80.10</td>\n",
       "    </tr>\n",
       "    <tr>\n",
       "      <th>21316</th>\n",
       "      <td>cas_pcw</td>\n",
       "      <td>2022-08-31</td>\n",
       "      <td>18:06:32</td>\n",
       "      <td>13.063161</td>\n",
       "      <td>80.274090</td>\n",
       "      <td>5339</td>\n",
       "      <td>0</td>\n",
       "      <td>13.06</td>\n",
       "      <td>80.27</td>\n",
       "    </tr>\n",
       "  </tbody>\n",
       "</table>\n",
       "<p>947 rows × 9 columns</p>\n",
       "</div>"
      ],
      "text/plain": [
       "         Alert        Date      Time        Lat       Long  Vehicle  Speed  \\\n",
       "38     cas_hmw  2022-06-01  06:16:46  12.795046  80.020296      805      0   \n",
       "57     cas_ldw  2022-06-01  06:24:57  13.024305  80.228471     2846      0   \n",
       "124    cas_ldw  2022-06-01  07:08:32  12.516883  79.887983      805      0   \n",
       "134    cas_ldw  2022-06-01  07:12:53  12.543551  79.904835      805      0   \n",
       "198    cas_ldw  2022-06-01  07:47:18  12.697172  79.972959      805      0   \n",
       "...        ...         ...       ...        ...        ...      ...    ...   \n",
       "21100  cas_hmw  2022-08-31  06:37:55  13.038943  80.246828     5339      0   \n",
       "21135  cas_pcw  2022-08-31  07:28:23  13.053098  80.272004     5339      0   \n",
       "21220  cas_ldw  2022-08-31  08:23:58  12.923263  80.120547     3143      0   \n",
       "21227  cas_hmw  2022-08-31  08:28:55  12.909345  80.099412     3143      0   \n",
       "21316  cas_pcw  2022-08-31  18:06:32  13.063161  80.274090     5339      0   \n",
       "\n",
       "       Latitude  Longitude  \n",
       "38        12.80      80.02  \n",
       "57        13.02      80.23  \n",
       "124       12.52      79.89  \n",
       "134       12.54      79.90  \n",
       "198       12.70      79.97  \n",
       "...         ...        ...  \n",
       "21100     13.04      80.25  \n",
       "21135     13.05      80.27  \n",
       "21220     12.92      80.12  \n",
       "21227     12.91      80.10  \n",
       "21316     13.06      80.27  \n",
       "\n",
       "[947 rows x 9 columns]"
      ]
     },
     "execution_count": 62,
     "metadata": {},
     "output_type": "execute_result"
    }
   ],
   "source": [
    "import pandas as pd\n",
    "\n",
    "# Assuming you have a DataFrame named df with columns including 'Speed'\n",
    "\n",
    "# Filter rows where 'Speed' is equal to 0\n",
    "\n",
    "zero = data[data['Speed'] == 0]\n",
    "\n",
    "zero['Latitude'] = zero['Lat'].round(2)\n",
    "zero['Longitude'] = zero['Long'].round(2)\n",
    "zero"
   ]
  },
  {
   "cell_type": "code",
   "execution_count": 64,
   "id": "fea03a47",
   "metadata": {
    "ExecuteTime": {
     "end_time": "2023-09-09T19:14:18.398499Z",
     "start_time": "2023-09-09T19:14:18.238297Z"
    }
   },
   "outputs": [
    {
     "name": "stdout",
     "output_type": "stream",
     "text": [
      "None\n",
      "     Latitude  Longitude  Total Alerts <lambda_0>  Average Speed\n",
      "111     13.06      80.25           112    cas_hmw            0.0\n",
      "30      12.88      80.08            96    cas_hmw            0.0\n",
      "109     13.05      80.27            33    cas_pcw            0.0\n",
      "113     13.06      80.27            31    cas_pcw            0.0\n",
      "93      13.02      80.23            23    cas_hmw            0.0\n",
      "..        ...        ...           ...        ...            ...\n",
      "29      12.87      80.10             1    cas_ldw            0.0\n",
      "52      12.94      80.18             1    cas_pcw            0.0\n",
      "98      13.03      80.25             1    cas_ldw            0.0\n",
      "70      12.98      80.12             1    cas_pcw            0.0\n",
      "60      12.96      80.09             1    cas_ldw            0.0\n",
      "\n",
      "[127 rows x 5 columns]\n"
     ]
    }
   ],
   "source": [
    "data = zero\n",
    "# Group by 'Latitude' and 'Longitude', count the alerts, and find the most common alert\n",
    "location_alerts = data.groupby(['Latitude', 'Longitude'])['Alert'].agg(['count', lambda x: x.mode()[0]]).reset_index()\n",
    "\n",
    "# Rename the columns for clarity\n",
    "location_alerts.rename(columns={'count': 'Total Alerts', '<lambda>': 'Most Common Alert'}, inplace=True)\n",
    "\n",
    "# Calculate the average speed for each group\n",
    "location_avg_speed = data.groupby(['Latitude', 'Longitude'])['Speed'].mean().reset_index()\n",
    "\n",
    "# Round the average speed to 3 decimal places\n",
    "location_avg_speed['Average Speed'] = location_avg_speed['Speed'].round(3)\n",
    "\n",
    "# Drop the 'Speed' column, as we now have the rounded average speed\n",
    "location_avg_speed.drop(columns=['Speed'], inplace=True)\n",
    "\n",
    "# Merge the two DataFrames based on 'Latitude' and 'Longitude'\n",
    "result = pd.merge(location_alerts, location_avg_speed, on=['Latitude', 'Longitude'])\n",
    "\n",
    "# Display the result\n",
    "print(result.sort_values(by=\"Total Alerts\", ascending=False,inplace = True))\n",
    "print (result)"
   ]
  },
  {
   "cell_type": "code",
   "execution_count": 74,
   "id": "f54c6e60",
   "metadata": {
    "ExecuteTime": {
     "end_time": "2023-09-09T19:23:30.426913Z",
     "start_time": "2023-09-09T19:22:26.063660Z"
    },
    "scrolled": true
   },
   "outputs": [
    {
     "name": "stdout",
     "output_type": "stream",
     "text": [
      "     Latitude  Longitude  Total Alerts <lambda_0>  Average Speed  \\\n",
      "111     13.06      80.25           112    cas_hmw            0.0   \n",
      "30      12.88      80.08            96    cas_hmw            0.0   \n",
      "109     13.05      80.27            33    cas_pcw            0.0   \n",
      "113     13.06      80.27            31    cas_pcw            0.0   \n",
      "93      13.02      80.23            23    cas_hmw            0.0   \n",
      "..        ...        ...           ...        ...            ...   \n",
      "29      12.87      80.10             1    cas_ldw            0.0   \n",
      "52      12.94      80.18             1    cas_pcw            0.0   \n",
      "98      13.03      80.25             1    cas_ldw            0.0   \n",
      "70      12.98      80.12             1    cas_pcw            0.0   \n",
      "60      12.96      80.09             1    cas_ldw            0.0   \n",
      "\n",
      "                                              Location  \n",
      "111  Ward 111, Zone 9 Teynampet, Chennai, Chennai D...  \n",
      "30   Vandalur zoo, Grand Southern Trunk Road, Vanda...  \n",
      "109  Pertho Street, CMWSSB Division 119, Zone 9 Tey...  \n",
      "113  Chinna Piliyar Koil Street, CMWSSB Division 63...  \n",
      "93   Jothiammal Nagar, Ward 171, Zone 13 Adyar, Che...  \n",
      "..                                                 ...  \n",
      "29   Kolapakkam, Chengalpattu, Chengalpattu Distric...  \n",
      "52   Nanmangalam, Sholinganallur, Chennai District,...  \n",
      "98   T T Krishnamachari Road, Seethammal Colony, CM...  \n",
      "70   Anakaputhur, Kundrathur, Pallavaram, Chengalpa...  \n",
      "60   ORR Service Road, Sriperumbudur, Pallavaram, C...  \n",
      "\n",
      "[127 rows x 6 columns]\n"
     ]
    }
   ],
   "source": [
    "# finding location for speed 0\n",
    "\n",
    "from geopy.geocoders import Nominatim\n",
    "from geopy.exc import GeocoderTimedOut, GeocoderServiceError\n",
    "\n",
    "# Create a geocoder instance\n",
    "geolocator = Nominatim(user_agent=\"myGeocoder\")\n",
    "\n",
    "# Initialize empty lists to store location information\n",
    "locations = []\n",
    "for index, row in result.iterrows():\n",
    "    latitude = row['Latitude']\n",
    "    longitude = row['Longitude']\n",
    "    \n",
    "    # Perform reverse geocoding with error handling and retries\n",
    "    retries = 3\n",
    "    while retries > 0:\n",
    "        try:\n",
    "            location = geolocator.reverse((latitude, longitude), exactly_one=True)\n",
    "            if location:\n",
    "                locations.append(location.address)\n",
    "            else:\n",
    "                locations.append(\"Location not found\")\n",
    "            break  # Break the retry loop if successful\n",
    "        except (GeocoderTimedOut, GeocoderServiceError) as e:\n",
    "            print(f\"Geocoding request failed. Retrying... ({retries} retries left)\")\n",
    "            retries -= 1\n",
    "\n",
    "# Add the location information to the DataFrame\n",
    "result['Location'] = locations\n",
    "\n",
    "# Display the DataFrame with location information\n",
    "print(result)"
   ]
  },
  {
   "cell_type": "code",
   "execution_count": 79,
   "id": "d804ac81",
   "metadata": {
    "ExecuteTime": {
     "end_time": "2023-09-09T19:31:42.363569Z",
     "start_time": "2023-09-09T19:31:42.333168Z"
    }
   },
   "outputs": [
    {
     "data": {
      "text/plain": [
       "'Grand Southern Trunk Road, Maduranthakam, Chengalpattu District, Tamil Nadu, 603306, India'"
      ]
     },
     "execution_count": 79,
     "metadata": {},
     "output_type": "execute_result"
    }
   ],
   "source": [
    "result[\"Location\"][1]"
   ]
  },
  {
   "cell_type": "code",
   "execution_count": 70,
   "id": "08d12768",
   "metadata": {
    "ExecuteTime": {
     "end_time": "2023-09-09T19:19:29.547216Z",
     "start_time": "2023-09-09T19:19:29.528593Z"
    }
   },
   "outputs": [
    {
     "name": "stdout",
     "output_type": "stream",
     "text": [
      "805     97\n",
      "5339    14\n",
      "2846     1\n",
      "Name: Vehicle, dtype: int64\n"
     ]
    }
   ],
   "source": [
    "# Filter rows where Latitude is 13.06 and Longitude is 80.25\n",
    "filtered_result = data[(data['Latitude'] == 13.06) & (data['Longitude'] == 80.25)]\n",
    "\n",
    "# Display the filtered result\n",
    "print(filtered_result[\"Vehicle\"].value_counts())"
   ]
  },
  {
   "cell_type": "code",
   "execution_count": 73,
   "id": "d330b86f",
   "metadata": {
    "ExecuteTime": {
     "end_time": "2023-09-09T19:21:09.641484Z",
     "start_time": "2023-09-09T19:21:09.605226Z"
    }
   },
   "outputs": [
    {
     "name": "stdout",
     "output_type": "stream",
     "text": [
      "   Vehicle  Frequency of Speed 0\n",
      "0      805                   437\n",
      "1     1995                    10\n",
      "2     2846                   226\n",
      "3     3143                   111\n",
      "4     5339                   163\n"
     ]
    }
   ],
   "source": [
    "# Filter rows where 'Speed' is equal to 0\n",
    "zero_speed_data = data[data['Speed'] == 0]\n",
    "\n",
    "# Group by 'Vehicle' and count the occurrences of speed 0\n",
    "frequency_of_speed_zero = zero_speed_data.groupby('Vehicle')['Speed'].count().reset_index()\n",
    "frequency_of_speed_zero.rename(columns={'Speed': 'Frequency of Speed 0'}, inplace=True)\n",
    "\n",
    "# Display the result\n",
    "print(frequency_of_speed_zero)"
   ]
  },
  {
   "cell_type": "code",
   "execution_count": 86,
   "id": "c4d05065",
   "metadata": {
    "ExecuteTime": {
     "end_time": "2023-09-10T07:33:42.250640Z",
     "start_time": "2023-09-10T07:33:42.222377Z"
    }
   },
   "outputs": [
    {
     "name": "stdout",
     "output_type": "stream",
     "text": [
      "     Month  Latitude  Longitude  Alerts Generated\n",
      "85       6     12.88      80.08               300\n",
      "115      6     12.94      80.13               282\n",
      "109      6     12.93      80.12               273\n",
      "98       6     12.92      80.11               261\n",
      "121      6     12.95      80.14               257\n",
      "..     ...       ...        ...               ...\n",
      "578      8     13.04      80.15                 1\n",
      "582      8     13.05      80.08                 1\n",
      "585      8     13.05      80.16                 1\n",
      "600      8     13.06      80.28                 1\n",
      "608      8     13.07      80.28                 1\n",
      "\n",
      "[617 rows x 4 columns]\n"
     ]
    }
   ],
   "source": [
    "# Convert 'Date' column to datetime type\n",
    "data['Date'] = pd.to_datetime(data['Date'])\n",
    "\n",
    "# Round latitude and longitude to 2 decimal places\n",
    "data['Latitude'] = data['Lat'].round(2)\n",
    "data['Longitude'] = data['Long'].round(2)\n",
    "\n",
    "# Extract the month from the 'Date' column\n",
    "data['Month'] = data['Date'].dt.month\n",
    "\n",
    "# Group by 'Month,' 'Latitude,' 'Longitude,' and count the occurrences of alerts\n",
    "location_alerts_monthly = data.groupby(['Month', 'Latitude', 'Longitude'])['Alert'].count().reset_index()\n",
    "\n",
    "# Rename the columns for clarity\n",
    "location_alerts_monthly.rename(columns={'Alert': 'Alerts Generated'}, inplace=True)\n",
    "\n",
    "# Sort the DataFrame by 'Month' in ascending order and 'Alerts Generated' in descending order\n",
    "sorted_location_alerts = location_alerts_monthly.sort_values(by=['Month', 'Alerts Generated'], ascending=[True, False])\n",
    "\n",
    "# Display the sorted result\n",
    "print(sorted_location_alerts)"
   ]
  },
  {
   "cell_type": "code",
   "execution_count": 88,
   "id": "83914246",
   "metadata": {
    "ExecuteTime": {
     "end_time": "2023-09-10T07:34:22.292864Z",
     "start_time": "2023-09-10T07:34:22.280310Z"
    }
   },
   "outputs": [
    {
     "name": "stdout",
     "output_type": "stream",
     "text": [
      "     Month  Latitude  Longitude  Alerts Generated\n",
      "85       6     12.88      80.08               300\n",
      "115      6     12.94      80.13               282\n",
      "109      6     12.93      80.12               273\n",
      "98       6     12.92      80.11               261\n",
      "121      6     12.95      80.14               257\n",
      "95       6     12.91      80.10               222\n",
      "139      6     12.97      80.15               218\n",
      "159      6     13.00      80.20               218\n",
      "153      6     12.99      80.18               210\n",
      "158      6     13.00      80.19               200\n",
      "163      6     13.01      80.21               197\n",
      "164      6     13.01      80.22               187\n",
      "91       6     12.90      80.09               182\n",
      "147      6     12.98      80.16               158\n",
      "193      6     13.05      80.27               152\n",
      "179      6     13.03      80.24               151\n",
      "148      6     12.98      80.17               146\n",
      "213      6     13.07      80.27               142\n",
      "174      6     13.02      80.23               136\n",
      "191      6     13.05      80.25               135\n",
      "203      6     13.06      80.27               135\n",
      "201      6     13.06      80.25               134\n",
      "76       6     12.86      80.07               126\n",
      "185      6     13.04      80.25               117\n",
      "88       6     12.89      80.08               116\n",
      "130      6     12.96      80.14               116\n",
      "165      6     13.01      80.23               115\n",
      "54       6     12.76      80.00               113\n",
      "44       6     12.70      79.97               109\n",
      "131      6     12.96      80.15               109\n",
      "31       6     12.65      79.94               107\n",
      "80       6     12.87      80.08               107\n",
      "15       6     12.53      79.90               105\n",
      "16       6     12.54      79.90               101\n",
      "25       6     12.61      79.92                95\n",
      "27       6     12.62      79.93                90\n",
      "212      6     13.07      80.26                90\n",
      "47       6     12.71      79.98                89\n",
      "162      6     13.01      80.20                89\n",
      "178      6     13.03      80.23                89\n",
      "89       6     12.89      80.09                87\n",
      "48       6     12.72      79.98                85\n",
      "64       6     12.82      80.04                85\n",
      "18       6     12.55      79.91                84\n",
      "24       6     12.60      79.92                82\n",
      "192      6     13.05      80.26                82\n",
      "28       6     12.63      79.93                81\n",
      "211      6     13.07      80.25                81\n",
      "43       6     12.69      79.98                80\n",
      "56       6     12.77      80.01                80\n"
     ]
    }
   ],
   "source": [
    "# Filter rows where 'Month' is equal to 6\n",
    "filtered_rows_month_6 = sorted_location_alerts[sorted_location_alerts['Month'] == 6]\n",
    "\n",
    "# Display the filtered result\n",
    "print(filtered_rows_month_6.head(50))"
   ]
  },
  {
   "cell_type": "code",
   "execution_count": 90,
   "id": "6c76d1dd",
   "metadata": {
    "ExecuteTime": {
     "end_time": "2023-09-10T07:35:52.108419Z",
     "start_time": "2023-09-10T07:35:52.097443Z"
    }
   },
   "outputs": [
    {
     "name": "stdout",
     "output_type": "stream",
     "text": [
      "     Month  Latitude  Longitude  Alerts Generated\n",
      "302      7     12.94      80.13                24\n",
      "298      7     12.92      80.11                18\n",
      "307      7     12.98      80.16                16\n",
      "317      7     13.01      80.23                16\n",
      "313      7     13.00      80.20                15\n",
      "315      7     13.01      80.21                15\n",
      "296      7     12.91      80.10                14\n",
      "336      7     13.07      80.27                14\n",
      "303      7     12.95      80.14                13\n",
      "316      7     13.01      80.22                13\n",
      "291      7     12.88      80.08                12\n",
      "300      7     12.93      80.12                11\n",
      "310      7     12.99      80.18                11\n",
      "338      7     13.08      80.28                11\n",
      "290      7     12.87      80.08                10\n",
      "306      7     12.97      80.15                10\n",
      "334      7     13.07      80.25                10\n",
      "259      7     12.66      79.95                 9\n",
      "332      7     13.06      80.26                 9\n",
      "318      7     13.01      80.24                 8\n",
      "319      7     13.01      80.25                 8\n",
      "289      7     12.86      80.07                 7\n",
      "292      7     12.89      80.08                 7\n",
      "294      7     12.90      80.09                 7\n",
      "305      7     12.96      80.15                 7\n",
      "308      7     12.98      80.17                 7\n",
      "322      7     13.02      80.23                 7\n",
      "335      7     13.07      80.26                 7\n",
      "343      7     13.10      80.29                 7\n",
      "345      7     13.11      80.28                 7\n",
      "245      7     12.52      79.89                 6\n",
      "265      7     12.69      79.98                 6\n",
      "326      7     13.03      80.27                 6\n",
      "328      7     13.04      80.27                 6\n",
      "260      7     12.66      79.96                 5\n",
      "273      7     12.74      79.99                 5\n",
      "276      7     12.77      80.01                 5\n",
      "304      7     12.96      80.14                 5\n",
      "309      7     12.99      80.17                 5\n",
      "320      7     13.01      80.26                 5\n",
      "325      7     13.03      80.24                 5\n",
      "275      7     12.76      80.00                 4\n",
      "286      7     12.84      80.06                 4\n",
      "293      7     12.89      80.09                 4\n",
      "331      7     13.05      80.27                 4\n",
      "350      7     13.13      80.26                 4\n",
      "256      7     12.63      79.93                 3\n",
      "261      7     12.66      79.97                 3\n",
      "270      7     12.72      79.98                 3\n",
      "271      7     12.73      79.98                 3\n"
     ]
    }
   ],
   "source": [
    "# Filter rows where 'Month' is equal to 6\n",
    "filtered_rows_month_6 = sorted_location_alerts[sorted_location_alerts['Month'] == 7]\n",
    "\n",
    "# Display the filtered result\n",
    "print(filtered_rows_month_6.head(50))"
   ]
  },
  {
   "cell_type": "code",
   "execution_count": 89,
   "id": "5ee4dfbb",
   "metadata": {
    "ExecuteTime": {
     "end_time": "2023-09-10T07:35:50.675848Z",
     "start_time": "2023-09-10T07:35:50.664301Z"
    }
   },
   "outputs": [
    {
     "name": "stdout",
     "output_type": "stream",
     "text": [
      "     Month  Latitude  Longitude  Alerts Generated\n",
      "493      8     12.94      80.13               348\n",
      "499      8     12.95      80.14               335\n",
      "471      8     12.92      80.11               321\n",
      "454      8     12.88      80.08               293\n",
      "466      8     12.91      80.10               277\n",
      "462      8     12.90      80.09               255\n",
      "485      8     12.93      80.12               253\n",
      "540      8     12.99      80.18               232\n",
      "518      8     12.97      80.15               224\n",
      "553      8     13.01      80.22               214\n",
      "552      8     13.01      80.21               210\n",
      "548      8     13.00      80.20               185\n",
      "528      8     12.98      80.16               177\n",
      "457      8     12.89      80.08               176\n",
      "547      8     13.00      80.19               172\n",
      "599      8     13.06      80.27               166\n",
      "509      8     12.96      80.15               163\n",
      "607      8     13.07      80.27               154\n",
      "508      8     12.96      80.14               152\n",
      "529      8     12.98      80.17               149\n",
      "588      8     13.05      80.27               134\n",
      "554      8     13.01      80.23               131\n",
      "570      8     13.03      80.24               125\n",
      "458      8     12.89      80.09               113\n",
      "563      8     13.02      80.23               111\n",
      "586      8     13.05      80.25               104\n",
      "605      8     13.07      80.25               103\n",
      "551      8     13.01      80.20                94\n",
      "450      8     12.87      80.08                89\n",
      "579      8     13.04      80.25                86\n",
      "606      8     13.07      80.26                85\n",
      "569      8     13.03      80.23                83\n",
      "444      8     12.86      80.07                76\n",
      "415      8     12.76      80.00                73\n",
      "597      8     13.06      80.25                71\n",
      "470      8     12.92      80.10                70\n",
      "557      8     13.01      80.26                69\n",
      "375      8     12.52      79.89                65\n",
      "405      8     12.70      79.97                64\n",
      "556      8     13.01      80.25                64\n",
      "431      8     12.82      80.04                62\n",
      "404      8     12.69      79.98                61\n",
      "410      8     12.73      79.98                60\n",
      "417      8     12.77      80.01                58\n",
      "472      8     12.92      80.12                57\n",
      "598      8     13.06      80.26                55\n",
      "539      8     12.99      80.17                53\n",
      "412      8     12.74      79.99                52\n",
      "564      8     13.02      80.26                52\n",
      "408      8     12.71      79.98                51\n"
     ]
    }
   ],
   "source": [
    "# Filter rows where 'Month' is equal to 6\n",
    "filtered_rows_month_6 = sorted_location_alerts[sorted_location_alerts['Month'] == 8]\n",
    "\n",
    "# Display the filtered result\n",
    "print(filtered_rows_month_6.head(50))"
   ]
  }
 ],
 "metadata": {
  "kernelspec": {
   "display_name": "Python 3 (ipykernel)",
   "language": "python",
   "name": "python3"
  },
  "language_info": {
   "codemirror_mode": {
    "name": "ipython",
    "version": 3
   },
   "file_extension": ".py",
   "mimetype": "text/x-python",
   "name": "python",
   "nbconvert_exporter": "python",
   "pygments_lexer": "ipython3",
   "version": "3.10.5"
  }
 },
 "nbformat": 4,
 "nbformat_minor": 5
}
